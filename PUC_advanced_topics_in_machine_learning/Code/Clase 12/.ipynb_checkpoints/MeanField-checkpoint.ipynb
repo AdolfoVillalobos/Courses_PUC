{
 "cells": [
  {
   "cell_type": "markdown",
   "metadata": {},
   "source": [
    "# Mean Field Approximation\n",
    "\n",
    "Ejemplo de MFA (Inferencia Variacional)"
   ]
  },
  {
   "cell_type": "code",
   "execution_count": 2,
   "metadata": {
    "collapsed": true
   },
   "outputs": [],
   "source": [
    "import numpy as np\n",
    "from scipy import stats\n",
    "import matplotlib.pyplot as plt\n",
    "from scipy.integrate import quad, dblquad\n",
    "from scipy.optimize import minimize\n",
    "from scipy.special import gamma\n"
   ]
  },
  {
   "cell_type": "code",
   "execution_count": 3,
   "metadata": {
    "collapsed": true
   },
   "outputs": [],
   "source": [
    "mu = 0\n",
    "sigma = 1\n",
    "N= 50\n",
    "D = np.random.normal(mu,sigma,N)   \n",
    "tol = 1e-6"
   ]
  },
  {
   "cell_type": "code",
   "execution_count": 22,
   "metadata": {},
   "outputs": [],
   "source": [
    "## Calculos Varios\n",
    "def E_Q_mu(D=D):\n",
    "    return np.mean(D)\n",
    "def E_Q_mu2(EspSigma,D=D,N=N):\n",
    "    return E_Q_mu(D)+EspSigma/N\n",
    "def E_Q_sigmaInv(VarMU,D=D,N=N):\n",
    "    return np.mean(D**2)-2*np.mean(D)*E_Q_mu(D)+VarMU\n",
    "    \n",
    "## Densidades\n",
    "\n",
    "def P(mu,sigma,N=N,D=D):\n",
    "    lamb = N**2\n",
    "    alpha = N/2\n",
    "    m = np.mean(D)\n",
    "    beta = np.sum(D**2)/2\n",
    "    const =(beta**(alpha))*np.sqrt(lamb)/(gamma(alpha)*np.sqrt(2*np.pi)) \n",
    "    dep = (sigma**(alpha-0.5))*(np.exp(-beta*sigma))*(np.exp(-0.5*lamb*sigma*((mu-m)**2)))\n",
    "    return const*dep\n",
    "\n",
    "def Gamma(theta,a,b):\n",
    "    return (b**(a))*(theta**(a-0.5))*(np.exp(-b*theta))/(gamma(a)) \n",
    "\n",
    "def KLDivergencia(Q,P):\n",
    "    Integrand = lambda a,b : (Q(a,b)*np.log(Q(a,b)/P(a,b))) if P(a,b)>0 and Q(a,b)>0 else 0\n",
    "    KL = dblquad(Integrand, -.3,1, lambda x: -1, lambda x: 1)[0]\n",
    "    return KL"
   ]
  },
  {
   "cell_type": "code",
   "execution_count": null,
   "metadata": {},
   "outputs": [],
   "source": []
  },
  {
   "cell_type": "code",
   "execution_count": 28,
   "metadata": {},
   "outputs": [],
   "source": [
    "def Iteracion(tol):\n",
    "    EsperanzaMu = E_Q_mu(D)\n",
    "    VarianzaMu = 0\n",
    "    dist = 1\n",
    "    counter = 0\n",
    "    while dist>tol:\n",
    "        ### Update Esperanza y Varianza\n",
    "        EsperanzaSigmaInv = E_Q_sigmaInv(VarianzaMu,D=D,N=N)\n",
    "        VarianzaMu = E_Q_mu2(EsperanzaSigmaInv,D=D,N=N)\n",
    "        \n",
    "       #### Parametros Gamma \n",
    "    \n",
    "        an = N/2\n",
    "        bn = 0.5*(N*VarianzaMu-2*(N*EsperanzaMu)*EsperanzaMu+np.sum(D**2))\n",
    "        \n",
    "        Q_sigma = lambda sigma : Gamma(sigma,an,bn) if sigma >=0 else 0\n",
    "        \n",
    "        \n",
    "        ### Parametros Gaussiana\n",
    "        muN = EsperanzaMu\n",
    "        lambdaNInv = EsperanzaSigmaInv/N\n",
    "    \n",
    "        Q_mu = lambda mu: stats.norm.pdf(mu,loc=muN,scale=lambdaNInv)\n",
    "        \n",
    "        ### Recuperar distribucion Original\n",
    "        \n",
    "        Q = lambda mu,sigma : Q_mu(mu)*Q_sigma(sigma) if Q_mu(mu)>=0 else 0\n",
    "        \n",
    "        dist = KLDivergencia(Q,P)\n",
    "        counter+=1\n",
    "    return (Q,counter)"
   ]
  },
  {
   "cell_type": "code",
   "execution_count": 29,
   "metadata": {},
   "outputs": [
    {
     "data": {
      "text/plain": [
       "(<function __main__.Iteracion.<locals>.<lambda>>, 1)"
      ]
     },
     "execution_count": 29,
     "metadata": {},
     "output_type": "execute_result"
    }
   ],
   "source": [
    "Q=Iteracion(tol)\n",
    "Q"
   ]
  },
  {
   "cell_type": "code",
   "execution_count": 30,
   "metadata": {},
   "outputs": [
    {
     "data": {
      "text/plain": [
       "-0.07868901300637254"
      ]
     },
     "execution_count": 30,
     "metadata": {},
     "output_type": "execute_result"
    }
   ],
   "source": [
    "KLDivergencia(Q[0],P)"
   ]
  },
  {
   "cell_type": "code",
   "execution_count": 27,
   "metadata": {},
   "outputs": [
    {
     "data": {
      "text/plain": [
       "0.0024308789475163189"
      ]
     },
     "execution_count": 27,
     "metadata": {},
     "output_type": "execute_result"
    }
   ],
   "source": []
  },
  {
   "cell_type": "code",
   "execution_count": null,
   "metadata": {
    "collapsed": true
   },
   "outputs": [],
   "source": []
  }
 ],
 "metadata": {
  "kernelspec": {
   "display_name": "Python 3",
   "language": "python",
   "name": "python3"
  },
  "language_info": {
   "codemirror_mode": {
    "name": "ipython",
    "version": 3
   },
   "file_extension": ".py",
   "mimetype": "text/x-python",
   "name": "python",
   "nbconvert_exporter": "python",
   "pygments_lexer": "ipython3",
   "version": "3.6.1"
  }
 },
 "nbformat": 4,
 "nbformat_minor": 2
}
