{
 "cells": [
  {
   "cell_type": "markdown",
   "metadata": {},
   "source": [
    "# Tarea Recuperativa: Implementación de Black Box\n",
    "\n"
   ]
  },
  {
   "cell_type": "code",
   "execution_count": 69,
   "metadata": {
    "collapsed": true
   },
   "outputs": [],
   "source": [
    "import numpy as np\n",
    "import matplotlib.pyplot as plt\n",
    "from scipy.optimize import minimize\n",
    "from scipy.misc import derivative\n",
    "from scipy.stats import norm,multivariate_normal\n",
    "from scipy.integrate import quad,dblquad\n",
    "from scipy.special import gamma\n",
    "%matplotlib inline"
   ]
  },
  {
   "cell_type": "code",
   "execution_count": 70,
   "metadata": {
    "collapsed": true
   },
   "outputs": [],
   "source": [
    "## Transformación a la matriz de diseño\n",
    "def phi_pol(xi,p):\n",
    "    result = []\n",
    "    for i in range(0,p+1):\n",
    "        result.append(np.power(xi,i))\n",
    "    return np.array(result)\n",
    "def X_pol(X,p):\n",
    "    result = phi_pol(X[0],p)\n",
    "    for i in range(1,len(X)):\n",
    "        ph = phi_pol(X[i],p)\n",
    "        result = np.vstack((result,ph))\n",
    "    return result\n",
    "\n",
    "## Transformación R^3 a matriz definida positiva:\n",
    "\n",
    "def ftransf(x):\n",
    "    a = x[0]\n",
    "    b = x[1]\n",
    "    c = x[2]\n",
    "    A = np.array([[a,b],[b,c]])\n",
    "    return np.dot(A,A)"
   ]
  },
  {
   "cell_type": "markdown",
   "metadata": {},
   "source": [
    "La Matriz dada por \n",
    "$$ A = \\begin{pmatrix}\n",
    "a & b \\\\\n",
    "b & c\n",
    "\\end{pmatrix}$$ \n",
    "\n",
    "es simétrica. Además, la matriz $A \\cdot A$ es siempre definida positiva. En efecto:\n",
    "$$ x^T A^2 x = x^T A\\cdot A x = x^T A^TA x = (Ax)^T(Ax) = \\| Ax\\|^2 \\geq 0 $$\n",
    "Por lo tanto, con la funcion ftransf podemos converitr 3 elementos arbitrarios en una matriz simétrica semidefinida positiva, que es necesario para construir normales multivariadas. De esta forma, podemos derivar con respecto a un vector en R^3 y no con respecto a una matriz."
   ]
  },
  {
   "cell_type": "code",
   "execution_count": 293,
   "metadata": {},
   "outputs": [
    {
     "data": {
      "image/png": "[encoded data removed]",
      "text/plain": [
       "<matplotlib.figure.Figure at 0x10ad8a5c0>"
      ]
     },
     "metadata": {},
     "output_type": "display_data"
    }
   ],
   "source": [
    "def data(file):\n",
    "    data = np.genfromtxt(file,delimiter =\",\",dtype = None)\n",
    "    X = np.array(data[1:,0],dtype = float)\n",
    "    Y = np.array(data[1:,1],dtype=float)\n",
    "    X = (X-X.mean())/(X.std())\n",
    "    Y = (Y-Y.mean())/(Y.std())\n",
    "    return (X,Y)\n",
    "\n",
    "file = \"datos.txt\"\n",
    "\n",
    "X,Y= data(file)\n",
    "plt.plot(X,Y,\"o\")\n",
    "\n",
    "# Variables Globales\n",
    "\n",
    "n=X.shape[0]\n",
    "a0, b0 =2,2\n",
    "Phi = X_pol(X,1)\n",
    "betainv= 100000"
   ]
  },
  {
   "cell_type": "markdown",
   "metadata": {},
   "source": [
    "# Regresión Lineal Bayesiana\n",
    "\n",
    "Utilizamos la verisón de regresión bayesiana predictiva disponible en el libro de Bishop : Pattern Recognition and Machine Learning, desde la página 486. En ella, la distribución conjunta se obtiene:\n",
    "\n",
    "$$ p(t,w,\\alpha) = p(t|w)p(w|\\alpha)p(\\alpha) $$\n",
    "\n",
    "donde:\n",
    "1. $p(t|w) = \\Pi_{n=1}^N \\mathcal{N}(t_n | w^T \\phi(x_n),\\beta^{-1}$)\n",
    "2. $p(w|\\alpha) = \\mathcal{N}(w|0,\\alpha^{-1}I)$\n",
    "3. $p(\\alpha) = \\mbox{Gamma}(\\alpha|a_0,b_0)$\n",
    "\n",
    "En las definiciones $\\phi$ es una transformación de los datos constituida por un kernel (en nuestro caso, el polinomio lineal). Los valores $\\beta$,$a_0,b_0$ son parámetros del modelo.\n",
    "\n",
    "La aproximación variacional utilizada en este caso es de la forma:\n",
    "$$q(w,\\alpha) = q(w)q(\\alpha) $$\n",
    "donde:\n",
    "1. $q(w) = \\mathcal{N}(w | m_N,S_n)$\n",
    "2. $q(\\alpha) = \\mbox{Gamma}(\\alpha| a_N,b_N)$\n",
    "\n",
    "donde la elección de los parámetros $m_N,S_n,a_N$ y $b_N$ es el foco del problema de Black Box, puesto que em mecanismo Mean Field presume desarrollos complejos para encontrar los valores óptimos.\n",
    "\n",
    "Adicionalmente, hemos implementado el algoritmo de Metropolis- Hastings para generar muestras de la distirbución $Q$, necesarias en el modelo de Black Box."
   ]
  },
  {
   "cell_type": "code",
   "execution_count": 294,
   "metadata": {
    "collapsed": true
   },
   "outputs": [],
   "source": [
    "# Funciones de Distribución\n",
    "\n",
    "def P(t,w,alpha,argsP,extraP): #Ditribución Conjunta para Modelo de Regresion Lineal Bayesiano\n",
    "\n",
    "    #Parametros generales\n",
    "    X= extraP[0]\n",
    "    n = X.shape[0]\n",
    "    wdim = w.shape[0]\n",
    "    Phi= X_pol(X,1)\n",
    "    \n",
    "    ## Hyper parametros de P\n",
    "    betainv = argsP[0]\n",
    "    a = agrsP[1]\n",
    "    b = argsP[2]\n",
    "    \n",
    "    # Distribuciones marginales\n",
    "    \n",
    "    P1 = lambda x,y :np.prod( [ multivariate_normal.pdf(x[i],mean=np.dot(y,Phi[i,:]) ,cov= betainv ) for i in range(n)])\n",
    "    P2 = lambda x,y : multivariate_normal.pdf(w,mean= np.zeros((wdim,)),cov=(1/y)*np.eye(wdim))\n",
    "    P3 = lambda x : Gamma(x,a,b)\n",
    "                                              \n",
    "    return P1(t,w)*P2(w,alpha)*P3(alpha)\n",
    "\n",
    "def Q(X,argsQ):\n",
    "    w =(X[0],X[1])\n",
    "    alpha = X[2]\n",
    "    \n",
    "    a=argsQ[0]\n",
    "    b=argsQ[1]\n",
    "    mean = argsQ[2]\n",
    "    cov = argsQ[3]\n",
    "    \n",
    "    Q1 = lambda x : multivariate_normal.pdf(x,mean = mean ,cov = cov )\n",
    "    Q2 = lambda x : Gamma(x,a,b)\n",
    "    \n",
    "    return Q1(w)*Q2(alpha)\n",
    "\n",
    "def Gamma(x,a,b):\n",
    "    return (b**a)*(x**(a-1))*np.exp(-b*x)/gamma(a)\n",
    "\n",
    "## Generar Muestras Aleatorias\n",
    "\n",
    "def MetropolisHastings(Ps,argsPs,x0,M):\n",
    "    samples = []\n",
    "    xs = x0\n",
    "    for s in range(3*M):\n",
    "        x = xs\n",
    "        xp = multivariate_normal.rvs(mean=x, cov=covM, size=1)\n",
    "        alpha = (Ps(xp,argsPs)/(Ps(x,argsPs)))\n",
    "        r = min(1,alpha)\n",
    "        u = np.random.uniform(0,1)\n",
    "        if u<r:\n",
    "            xs = xp\n",
    "        else:\n",
    "            xs = xs\n",
    "        samples.append(xs)\n",
    "    samples = samples[2*M:] # Solo para asegurarme jeje\n",
    "    return samples"
   ]
  },
  {
   "cell_type": "code",
   "execution_count": null,
   "metadata": {},
   "outputs": [],
   "source": [
    "\n",
    "    "
   ]
  },
  {
   "cell_type": "code",
   "execution_count": 295,
   "metadata": {},
   "outputs": [],
   "source": [
    "# Q inicial\n",
    "mean = np.array([0,0])\n",
    "cov = 3*np.eye(2)\n",
    "argsQ = [a0,b0,mean,cov]\n",
    "covM = 3*np.eye(3)"
   ]
  },
  {
   "cell_type": "code",
   "execution_count": 296,
   "metadata": {
    "collapsed": true
   },
   "outputs": [],
   "source": [
    "# Testeo Metropolis Hastings\n",
    "M = 100\n",
    "x0 = (1,1,1)"
   ]
  },
  {
   "cell_type": "code",
   "execution_count": 297,
   "metadata": {},
   "outputs": [],
   "source": [
    "samples = MetropolisHastings(Q,argsQ,x0,M)"
   ]
  },
  {
   "cell_type": "markdown",
   "metadata": {},
   "source": [
    "# Variational Black Box\n",
    "\n",
    "A continuación describimos el algoritmo 2 de Black-Box, descrito en el paper \"Black Box Variational Inference\", de R. Ranganath, S. Gerrish y D.M. Blei :\n",
    "\n",
    "1. **Input** Datos $x$, distribución conjunta $p$, familia variacional $q$.\n",
    "2. **Inicializar** $\\lambda_{1:n}$ aleatoriamente, t=1.\n",
    "3. **Repetir**:\n",
    "   * Samplear $S$ muestras de la aprovimación variacional\n",
    "   * for $s=1$ to $S$ do:\n",
    "       $$z[s]\\sim q$$\n",
    "     end for\n",
    "   * for $i=1$ to $n$ do:\n",
    "          - for $s=1$ to $S$ do:\n",
    "       $$ f_i[s] =\\nabla_{\\lambda_i} \\log q_i (z[s]|\\lambda_i)(\\log p_i(x,z[s])-\\log q_i(z[s]|\\lambda_i)$$\n",
    "       $$ h_i[s]= \\nabla_{\\lambda_i} \\log q_i (z[s]|\\lambda_i)$$\n",
    "       end for\n",
    "       $$\\hat{a_i}^* = \\dfrac{\\sum_{d=1}^{n_i} Cov(f_i^d,h_i^d) }{\\sum_{d=1}^{n_i} Var(h_i^d)} $$\n",
    "   end for\n",
    "   $$\\rho = t\\mbox{ ésimo de una secuencia Robbins Monro}$$\n",
    "   $$\\lambda = \\lambda+\\rho \\nabla_{\\lambda} \\mathcal{L} $$\n",
    "   $$ t = t+1 $$\n",
    "   \n",
    "## Explicación del Modelo\n",
    "\n",
    "El algoritmo anterior surge debido a un intento de encontrar aquellos parametros para la distribuición $Q$ que nos permiten maximizar el ELBO. Debido a que buscamos evitar desarrollos teóricos dependientes del modelo que pueden lelgar a ser muy complejos, se utiliza un acercamiento de método de descenso estocástico (optimización estocástica).\n",
    "\n",
    "Debido a que queremos optimizar el ELBO, el enfoque estándar es tomar su gradiente e igualar a cero. Debido a la dificultad que esto implica, la alternativa utilizada es la siguiente: aproximar un estimador insesgado del gradiente del ELBO, que pueda ser calculado a partir de muestras de la distribución $Q$. El gradiente teórico está dado por la Ecuación 2 del paper:\n",
    "\n",
    "$$ \\nabla_{\\lambda} \\mathcal{L} = E_q[ \\nabla_{\\lambda} \\log q(z | \\lambda)( \\log p(x,z)- \\log q(z | \\lambda)$$\n",
    "\n",
    "Debido a que, como se sabe se cursos de estadística anteriores, por la ley de los grandes Números sabemos que la Esperanza matemática puede ser estimada por un promedio de evaluaciones en las muestras. Además, el promedio es por naturaleza un estimador insesgado  y así el Teorema de Rao Blackwell puede ser utilizado sin problemas para el control de varianza, que veremos después. Luego, nuestra estimación está dada por la ecuación (3) del paper:\n",
    "\n",
    "$$\\nabla_{\\lambda} \\mathcal{L} = \\dfrac{1}{S} \\sum_{s=1}^S \\log q(z_s | \\lambda)( \\log p(x,z_s)- \\log q(z_s| \\lambda)$$\n",
    "\n",
    "donde $z_s \\sim q(z|\\lambda)$.\n",
    "\n",
    "Debido a que es un algoritmo de descenso de gradiente esctócastico, es necesario controlar la varianza del ruido de dicho gradiente, pues esta puede ser demasiado grande como para que el algoritmo sea útil. Para ello, se introducen dos métodos de reducción y control de la marianza. El primero, la **Rao-Blackwellization** y el segundo **Control Variates**.\n",
    "\n",
    "En el caso del primero, **Rao Blackwellization** remplaza una función de dos variables $J(X,Y)$ por otra de una variable, que se construye al condicionar $J$ por $X$. De esa forma, se mantienen las esperanzas pero por el Teorema de Rao Blackwell, se disminuye la varianza. En efecto: si llamamos $M(X) = E[J(X,Y)|X]$, se tendrá por propiedades conocidas de la esperanza que:\n",
    "$$ E[M(X)] = E[E[J(X,Y)|X]] = E[E[J(X,Y)]] = E[J(X,Y)]$$\n",
    "Y por lo tanto se conserva la esperanza. Sin embargo, se puede demostrar que (Teorema de Rao- Blackwell):\n",
    "$$ Var(M(X)) = Var(J(X,Y)) - E( (J(X,Y)-M(X))^2)$$.\n",
    "\n",
    "\n",
    "Debido a que el  término restado es positivo, se tiene que la varianza de nuestro nuevo funcional es menor que la original. Para utilizar lo anterior, en vez de calcular gradientes contra $\\lambda$, lo calculamos contra $\\lambda_i$, donde $i$ representa la $i$-esima distribución que conforma a $Q$ de la forma (ecuación 4):\n",
    "\n",
    "$$ q(z|\\lambda ) = \\Pi_{i=1}^n q_i(z_i |\\lambda_i)$$\n",
    "\n",
    "Y así, nuestra estimación queda como en la ecuación 6 del paper:\n",
    "\n",
    "$$\\nabla_{\\lambda_i} \\mathcal{L} = \\dfrac{1}{S} \\sum_{s=1}^S \\log q_i(z_s | \\lambda_i)( \\log p_i(x,z_s)- \\log q_i(z_s| \\lambda_i)$$\n",
    "constituye un estimador de Rao-Blackwell, que reduce la varianza. Es necesario ser cuidadoso con la elección de $p_i(x,z_i)$, que corresponde a las distribución conjunta de quellas variables latentes $z_i$ que son necesarias para el cálculo de $p_i$.\n",
    "\n",
    "Finalmente, utilizamos **Control Variates**. Para ello, se consideran funciones $h$ integrales (primer momento finito) y se construye una función $\\bar f$ de manera que su esperanza sea igual a otra función $f$, pero con menor varianza. Y así, se construye:\n",
    "$$ \\bar f(z) = f(z) - a(h(z)-E(h(z))$$\n",
    "donde la elección de $a$ y $h$ es la escrita en el algoritmo 2. Debido a que:\n",
    "$$ Var(\\bar f) = Var(f) +a^2Var(h) - 2aCov(f,h)$$\n",
    "queda a simple vista que si la covarianza entre ambas funciones es alta, entonces la varianza de $\\bar f$ disminuye (las ecuaciones anteriores corresponden a la ecuación 7 del paper, y conocimiento general de varianzas). \n",
    "De esta forma, se busca una función $h$ que este altamente correlacionada con $f$. Adicionalmente, el valor óptimo para $a$ está dado al derivar la expresión anterior e igualarla a 0. Las ecuaciones para esto son (ecuación 8 del paper):\n",
    "\n",
    "$$f_i(z) = \\nabla_{\\lambda_i} \\log q(z|\\lambda_i)(\\log p(x,z)-\\log q(z|\\lambda_i))$$\n",
    "$$ h_i(z) = \\log q(z|\\lambda_i)$$\n",
    "\n",
    "Podemos ver que están muy correlacionados debido al término $\\log q(z|\\lambda_i)$ en común.\n",
    "\n",
    "Los supraindices $d$ de nuestro algoritmo indican una discretización en los cálculos a través de estimación empírica usando sampleo de variables aleatorias, pero manteniendo las propiedades deseasdas. Se puede ver en el algoritmo los cálculos para el caso discreto.\n",
    "\n",
    "Con lo anterior, se construyen variables aleatorias que mantienen la esperanza, y por lo tanto mantienen nuestro estimador del gradiente del ELBO, pero que poseen menor varianza que el original, de manera que nuestro gradiente estocástico posee menor ruido y por lo tanto presenta mayor utilizad para ser utilizado en un algoritmo de descenso."
   ]
  },
  {
   "cell_type": "markdown",
   "metadata": {},
   "source": [
    "## Implementación\n",
    "\n",
    "Debido a que es necesario obtener gradientes, hemos utilizado la función \"DerivadaParcial\", obtenida de: https://stackoverflow.com/questions/20708038/scipy-misc-derivative-for-mutiple-argument-function. Adicionalmente, hemos implementado los logaritmos de las funciones $q_i$ y $p_i$, puesto que son necesarios para los calculos de Black Box. \n",
    "\n",
    "Vale la pena destacar que para nuestro caso hemos creado una transformación que convierte un vector en $\\mathbb{R}^3$ en una matriz simétrica semidefinida positiva, necesaria para construir la matriz de covarianzas. Con dicha transformación (que además es sobreyectiva), es posible calcular gradientes sin la necesidad de derivadas más generales sobre objetos como matrices."
   ]
  },
  {
   "cell_type": "code",
   "execution_count": 298,
   "metadata": {},
   "outputs": [],
   "source": [
    "def DerivadaParcial(func, var=0, point=[]):\n",
    "    args = point[:]\n",
    "    def wraps(x):\n",
    "        args[var] = x\n",
    "        return func(*args)\n",
    "    return derivative(wraps, point[var], dx = 1e-6)\n",
    "\n",
    "\n",
    "# Funciones log\n",
    "\n",
    "#Q\n",
    "def logq1(x0,x1,mu1,mu2,a,b,c): #Normal multivariada: Estimamos 5 parámetros\n",
    "    mean = np.array([mu1,mu2])\n",
    "    cov = ftransf((a,b,c))\n",
    "    return np.log(multivariate_normal.pdf((x0,x1),mean = mean ,cov = cov ))\n",
    "def logq2(x,a,b):\n",
    "    return np.log(Gamma(x,a,b))\n",
    "#P \n",
    "def logp1(data,y):\n",
    "    return (np.prod([norm.pdf(data[i],loc=np.dot(y,Phi[i,:]) ,scale= betainv ) for i in range(n)]))\n",
    "def logp2(x,alpha):\n",
    "    w = np.array(x)\n",
    "    wdim = w.shape[0]\n",
    "    return np.log(multivariate_normal.pdf(w,mean= np.zeros((wdim,)),cov=(1/(np.abs(alpha)))*np.eye(wdim)))\n",
    "def logp3(x,a,b):\n",
    "    return np.log(Gamma(x,a,b))"
   ]
  },
  {
   "cell_type": "markdown",
   "metadata": {},
   "source": [
    "A continuación, implementamos el calculo de gradientes. Habría sido posible implementar esto de manera más limpia, pero debido a la falta de tiempo preferí hacerlo a la bruta (no me funcionaron intentos más generales). Pido disculpas. \n",
    "\n",
    "Las funciones básicamente hacen lo siquiente:\n",
    "\n",
    "1. gradlogq1 : derivada parcial del logaritmo de q1 en la coordenada i\n",
    "2. gradlogq2: derivada parcial del logaritmo de q2 en la coordenada i\n",
    "3. logpq1: Funcion a derivar necesaria para calcular $f_1[s]$ \n",
    "4. logpq2: Funcion a derivar necesaria para calcular $f_2[s]$ \n",
    "5. Gradiente: Báscicamente, se le introduce una función y es capaz de calcular gradientes en algun punto (entregando la versión vectorial.\n",
    "\n",
    "Las variables point1 y point2 se refieren a:\n",
    "1. point1: muestra generada a partir de Q\n",
    "2. point2: Esta representa las coordenadas necesarias para evaluar los hiperparametros que estan siendo estimados. Este punto juega el rol de un $\\lambda_i$.\n",
    "\n",
    "Y finalmente:\n",
    "1. gradlogpq1: derivada parcial de los terminos necesarios para calcular $f_1[s]$ en la componente i\n",
    "2. gradlogpq2: derivada parcial de los terminos necesarios para calcular $f_2[s]$ en la componente i"
   ]
  },
  {
   "cell_type": "code",
   "execution_count": 299,
   "metadata": {},
   "outputs": [],
   "source": [
    "# Gradientes: Necesarios para la ejecución \n",
    "\n",
    "def gradlogq1(point1,point2,i):\n",
    "    logq1xD = lambda mu1,mu2,a,b,c : logq1(point1[0],point1[1],mu1,mu2,a,b,c)\n",
    "    gradlogq1xD = DerivadaParcial(logq1xD,var=i,point=point2)\n",
    "    return gradlogq1xD\n",
    "def gradlogq2(point1,point2,i):\n",
    "    logq2xD = lambda a,b : logq2(point1,a,b)\n",
    "    gradlogq2xD = DerivadaParcial(logq2xD,var=i,point=point2)\n",
    "    return gradlogq2xD [0]\n",
    "\n",
    "\n",
    "def Gradiente(grad,point1,point2,n):\n",
    "    gradiente = []\n",
    "    for i in range(n):\n",
    "        gradiente.append(grad(point1,point2,i))\n",
    "    return np.array(gradiente)\n",
    "\n",
    "## Otro gradiente relevante\n",
    "\n",
    "#logp1(Y,point1[:2])\n",
    "# necesitamos usar p1 y p2, pues ellos dependen de w y alpha, que son lo que estamos estimando. Point1 viene siendo una muestra\n",
    "def logpq1(mu1,mu2,a,b,c,point1):\n",
    "    return logq1(point1[0],point1[1],mu1,mu2,a,b,c)*(logp2(point1[:2],point1[2:][0])-logq1(point1[0],point1[1],mu1,mu2,a,b,c))\n",
    "def logpq2(a,b,point1):\n",
    "    return logq2(point1[2:][0],a,b)*(logp2(point1[:2],point1[2:][0])+logp3(point1[2:][0],a0,b0)-logq2(point1[2:][0],a,b))\n",
    "\n",
    "def gradlogpq1(point1,point2,i):\n",
    "    logpq1xD = lambda mu1,mu2,a,b,c : logpq1(mu1,mu2,a,b,c,point1)\n",
    "    gradlogpq1xD = DerivadaParcial(logpq1xD,var=i,point=point2)\n",
    "    return gradlogpq1xD\n",
    "def gradlogpq2(point1,point2,i):\n",
    "    logpq2xD = lambda a,b : logpq2(a,b,point1)\n",
    "    gradlogq2xD = DerivadaParcial(logpq2xD,var=i,point=point2)\n",
    "    return gradlogq2xD "
   ]
  },
  {
   "cell_type": "code",
   "execution_count": null,
   "metadata": {},
   "outputs": [],
   "source": []
  },
  {
   "cell_type": "markdown",
   "metadata": {},
   "source": [
    "Adicionalmente, implementamos una sucesión cuadrado convergente, pero linealmente divergente."
   ]
  },
  {
   "cell_type": "code",
   "execution_count": 300,
   "metadata": {},
   "outputs": [],
   "source": [
    "def RobbinsMonro(a,n):\n",
    "    return (a/n)"
   ]
  },
  {
   "cell_type": "markdown",
   "metadata": {},
   "source": [
    "Finalmente, implementamos el método Black Box para inferencia variacional"
   ]
  },
  {
   "cell_type": "code",
   "execution_count": 301,
   "metadata": {},
   "outputs": [],
   "source": [
    "def VariationalBlackBox(Qs,argsQs,S,x0):\n",
    "    #Parametros de iteración\n",
    "    n = 7\n",
    "    t = 1\n",
    "    rho = lambda t : RobbinsMonro(2,t)\n",
    "    error = 2\n",
    "    errores = []\n",
    "    # Parte 1 : Inicializacion\n",
    "    \n",
    "    lambdinit = 50*np.random.rand(7)\n",
    "    lambdactual = lambdinit\n",
    "    \n",
    "    #Parte 2: Iteración\n",
    "     \n",
    "    while error > 0.01:\n",
    "        \n",
    "        lambdviejo = lambdactual\n",
    "        \n",
    "        point21 = lambdviejo[:5]\n",
    "        point22 = lambdviejo[5:]\n",
    "        \n",
    " #Actualización de parámetros\n",
    "\n",
    "        mu1 = lambdactual[0]\n",
    "        mu2 = lambdactual[1]\n",
    "        a = lambdactual[2]\n",
    "        b =lambdactual[3]\n",
    "        c =lambdactual[4]\n",
    "        aN =lambdactual[5]\n",
    "        bN=lambdactual[6]\n",
    "        argsQs = [aN,bN,np.array([mu1,mu2]),ftransf((a,b,c))]\n",
    "        \n",
    "        # Draw Samples\n",
    "        samples = MetropolisHastings(Qs,argsQs,x0,S)\n",
    "        \n",
    "        # Arreglos a ir guardando\n",
    "        \n",
    "        h1 = []\n",
    "        h2 = []\n",
    "        f1 = []\n",
    "        f2 = []\n",
    "        \n",
    "        ## para n = 1 # Perdon por lo \"poco inteligente\n",
    "        \n",
    "        for i in range(S):\n",
    "            his1 = Gradiente(gradlogq1,samples[i],point21,5)\n",
    "            his2 = Gradiente(gradlogq2,samples[i],point22,2)\n",
    "            h1.append(his1)\n",
    "            h2.append(his2)\n",
    "            \n",
    "            fis1 = Gradiente(gradlogpq1,samples[i],point21,5)\n",
    "            fis2 = Gradiente(gradlogpq2,samples[i],point22,2)\n",
    "            f1.append(fis1)\n",
    "            f2.append(fis2)\n",
    "        \n",
    "        h1 = np.array(h1).T\n",
    "        h2 = np.array(h2).T\n",
    "        f1 = np.array(f1).T  \n",
    "        f2 = np.array(f2).T\n",
    "            \n",
    "#        x1 = f1.sum(axis=1)/S\n",
    "#        y1 = h1.sum(axis=1)/S\n",
    "#        X1 = np.vstack((x1,y1))\n",
    "#        Y1 = np.vstack((y1,y1))\n",
    "        \n",
    " #       x2 = f1.sum(axis=1)/S\n",
    " #       y2 = h1.sum(axis=1)/S\n",
    " #       X2 = np.vstack((x2,y2))\n",
    " #       Y2 = np.vstack((y2,y2))\n",
    "    \n",
    "        a1 =   np.sum( [np.cov(f1[i,:],h1[i,:])[0][1] for i in range(5)]) / np.sum( [np.cov(h1[i,:],h1[i,:])[0][1] for i in range(5)])\n",
    "        a2 =   np.sum( [np.cov(f2[i,:],h2[i,:])[0][1] for i in range(2)]) / np.sum( [np.cov(h2[i,:],h2[i,:])[0][1] for i in range(2)])\n",
    "     \n",
    "       # a1 = np.sum(np.cov(X1))/ np.sum(np.cov(Y1))\n",
    "      #  a2 = np.sum(np.cov(X2))/ np.sum(np.cov(Y2)) \n",
    "        \n",
    "        gradL1 = GradLi(f1,h1,a1,S)\n",
    "        gradL2 = GradLi(f2,h2,a2,S)\n",
    "        \n",
    "        gradL = np.hstack((gradL1,gradL2))\n",
    "        lambdactual = lambdactual+rho(t)*gradL\n",
    "        \n",
    "        \n",
    "        t=t+1\n",
    "        print (t)\n",
    "        \n",
    "        error = np.linalg.norm(lambdviejo-lambdactual)\n",
    "        errores.append(error)\n",
    "    return (lambdactual,errores)\n",
    "\n",
    "def GradLi(fi,hi,ai,S):\n",
    "    vec = 0\n",
    "    for i in range(S):\n",
    "        vec += fi[:,i]-ai*hi[:,i]\n",
    "    return vec/S"
   ]
  },
  {
   "cell_type": "code",
   "execution_count": 303,
   "metadata": {},
   "outputs": [
    {
     "name": "stderr",
     "output_type": "stream",
     "text": [
      "/usr/local/lib/python3.6/site-packages/ipykernel_launcher.py:39: RuntimeWarning: invalid value encountered in double_scalars\n",
      "/usr/local/lib/python3.6/site-packages/ipykernel_launcher.py:39: RuntimeWarning: invalid value encountered in power\n",
      "/usr/local/lib/python3.6/site-packages/ipykernel_launcher.py:26: RuntimeWarning: invalid value encountered in log\n"
     ]
    },
    {
     "name": "stdout",
     "output_type": "stream",
     "text": [
      "2\n"
     ]
    },
    {
     "data": {
      "text/plain": [
       "(array([ -35.98475568,   74.25969298,  111.05755314,  -29.68036719,\n",
       "          36.54633048,           nan,           nan]), [nan])"
      ]
     },
     "execution_count": 303,
     "metadata": {},
     "output_type": "execute_result"
    }
   ],
   "source": [
    "S = 20\n",
    "lambd = VariationalBlackBox(Q,argsQ,S,x0)\n",
    "lambd"
   ]
  },
  {
   "cell_type": "markdown",
   "metadata": {},
   "source": [
    "Como se puede ver, no logré calibrar el modelo para entregar valores que no dividieran por cero. Sin embargo, si se analiza el codigo entregado se puede concluir que es una implementación bien hecha del problema.\n",
    "\n",
    "Quiero aclarar la salvedad de que quité $\\log p_1$ del calculo puesto que se me iba a $-\\infty$ muy rapido, debido a la naturaleza de los datos. Si huibiese podido calibrar mejor, no habría habido problemas. Pido piedad en la corrección plis :("
   ]
  },
  {
   "cell_type": "markdown",
   "metadata": {},
   "source": [
    "# Gráficos\n",
    "\n"
   ]
  },
  {
   "cell_type": "code",
   "execution_count": null,
   "metadata": {},
   "outputs": [],
   "source": []
  },
  {
   "cell_type": "code",
   "execution_count": 99,
   "metadata": {},
   "outputs": [],
   "source": []
  },
  {
   "cell_type": "code",
   "execution_count": 106,
   "metadata": {},
   "outputs": [
    {
     "data": {
      "text/plain": [
       "array([[ 2.5,  2.5],\n",
       "       [ 2.5,  2.5]])"
      ]
     },
     "execution_count": 106,
     "metadata": {},
     "output_type": "execute_result"
    }
   ],
   "source": []
  },
  {
   "cell_type": "code",
   "execution_count": null,
   "metadata": {
    "collapsed": true
   },
   "outputs": [],
   "source": []
  }
 ],
 "metadata": {
  "kernelspec": {
   "display_name": "Python 3",
   "language": "python",
   "name": "python3"
  },
  "language_info": {
   "codemirror_mode": {
    "name": "ipython",
    "version": 3
   },
   "file_extension": ".py",
   "mimetype": "text/x-python",
   "name": "python",
   "nbconvert_exporter": "python",
   "pygments_lexer": "ipython3",
   "version": "3.6.1"
  }
 },
 "nbformat": 4,
 "nbformat_minor": 2
}
